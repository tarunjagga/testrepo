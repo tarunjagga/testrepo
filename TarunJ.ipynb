{
 "cells": [
  {
   "cell_type": "markdown",
   "id": "a910702c-d2fd-47ba-b8cd-6773eba99aaa",
   "metadata": {},
   "source": [
    "\n",
    "# My Jupyter Notebook on IBM Watson Studio\n"
   ]
  },
  {
   "cell_type": "markdown",
   "id": "1920723f-27d6-41e8-a2ba-7436f8f39d1a",
   "metadata": {},
   "source": [
    " **TARUN JAGGA**<br>\n",
    "I currently works as Branch Manager for Easy Financial\n"
   ]
  },
  {
   "cell_type": "markdown",
   "id": "5d1a424d-dd49-4f30-a34b-0ed7131a41fb",
   "metadata": {},
   "source": [
    "*I am interested in Data Science to pursue my career as buisness analyst*"
   ]
  },
  {
   "cell_type": "markdown",
   "id": "0f594fd6-5f72-4686-a505-d14c6222b372",
   "metadata": {},
   "source": [
    "### Addition of two numbers"
   ]
  },
  {
   "cell_type": "code",
   "execution_count": 1,
   "id": "f9735258-0774-4a9d-a9e7-547b5b96b379",
   "metadata": {},
   "outputs": [
    {
     "name": "stdout",
     "output_type": "stream",
     "text": [
      "3\n"
     ]
    }
   ],
   "source": [
    "One=1\n",
    "Two=2\n",
    "print(One+Two)\n"
   ]
  },
  {
   "cell_type": "markdown",
   "id": "f5bff63c-b10c-4fad-90b6-fc5326471ab4",
   "metadata": {},
   "source": [
    "#### Table\n",
    "Name | Age | Gendger\n",
    "--- | --- | ---\n",
    "Tarun | 28 | Male\n"
   ]
  },
  {
   "cell_type": "markdown",
   "id": "1e64c43f-21a7-47a0-8634-c8e5ec688791",
   "metadata": {},
   "source": [
    "#### Horizontal Rule\n",
    "I am going...\n",
    "\n",
    "---\n",
    "\n",
    "I went\n",
    "\n",
    "***\n",
    "\n",
    "I am gone\n",
    "\n",
    "___\n",
    "\n",
    "I will leave"
   ]
  },
  {
   "cell_type": "markdown",
   "id": "addbbc1c-2dd2-4583-a5df-9db11148c3e6",
   "metadata": {},
   "source": [
    "#### list\n",
    "How to boil water\n",
    "1. Take a pan\n",
    "2. Fill water\n",
    "3. Put the pan on gas and turn the heat.\n"
   ]
  },
  {
   "cell_type": "code",
   "execution_count": null,
   "id": "ce4c682c-0b8a-4ccf-b26f-56e93a7b196b",
   "metadata": {},
   "outputs": [],
   "source": []
  },
  {
   "cell_type": "code",
   "execution_count": null,
   "id": "a4889d2e-6dea-4c98-8f66-fda6cb934234",
   "metadata": {},
   "outputs": [],
   "source": []
  }
 ],
 "metadata": {
  "kernelspec": {
   "display_name": "Python",
   "language": "python",
   "name": "conda-env-python-py"
  },
  "language_info": {
   "codemirror_mode": {
    "name": "ipython",
    "version": 3
   },
   "file_extension": ".py",
   "mimetype": "text/x-python",
   "name": "python",
   "nbconvert_exporter": "python",
   "pygments_lexer": "ipython3",
   "version": "3.7.12"
  }
 },
 "nbformat": 4,
 "nbformat_minor": 5
}
